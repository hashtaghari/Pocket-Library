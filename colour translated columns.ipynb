{
 "cells": [
  {
   "cell_type": "code",
   "execution_count": 7,
   "metadata": {},
   "outputs": [],
   "source": [
    "import openpyxl\n",
    "from openpyxl.styles import PatternFill\n",
    "\n",
    "# Open the Excel file\n",
    "workbook = openpyxl.load_workbook('List.xlsx')\n",
    "\n",
    "# Select the active sheet\n",
    "sheet = workbook.active\n",
    "\n",
    "# Iterate over each row in the sheet\n",
    "for row in sheet.iter_rows(min_row=2):  # Assuming row 1 is the header\n",
    "    title_cell = row[0]  # Assuming 'Title' is in the first column\n",
    "    if title_cell.value and 'translated' in title_cell.value.lower():\n",
    "        # Color the entire row in green (dimmer shade)\n",
    "        for cell in row:\n",
    "            fill = PatternFill(start_color=\"99CC99\", end_color=\"99CC99\", fill_type=\"solid\")\n",
    "            cell.fill = fill\n",
    "\n",
    "# Save the modified workbook\n",
    "workbook.save('List.xlsx')\n"
   ]
  }
 ],
 "metadata": {
  "kernelspec": {
   "display_name": "Python 3",
   "language": "python",
   "name": "python3"
  },
  "language_info": {
   "codemirror_mode": {
    "name": "ipython",
    "version": 3
   },
   "file_extension": ".py",
   "mimetype": "text/x-python",
   "name": "python",
   "nbconvert_exporter": "python",
   "pygments_lexer": "ipython3",
   "version": "3.11.1"
  },
  "orig_nbformat": 4
 },
 "nbformat": 4,
 "nbformat_minor": 2
}
